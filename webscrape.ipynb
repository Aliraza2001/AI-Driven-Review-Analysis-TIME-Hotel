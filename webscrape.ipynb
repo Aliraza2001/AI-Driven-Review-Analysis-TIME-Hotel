{
  "nbformat": 4,
  "nbformat_minor": 0,
  "metadata": {
    "colab": {
      "provenance": []
    },
    "kernelspec": {
      "name": "python3",
      "display_name": "Python 3"
    },
    "language_info": {
      "name": "python"
    }
  },
  "cells": [
    {
      "cell_type": "markdown",
      "source": [
        "# **CSCI316 - Project 2**"
      ],
      "metadata": {
        "id": "U8S2c-4UwUaS"
      }
    },
    {
      "cell_type": "markdown",
      "source": [],
      "metadata": {
        "id": "DtgFO16Y147p"
      }
    },
    {
      "cell_type": "code",
      "execution_count": 1,
      "metadata": {
        "colab": {
          "base_uri": "https://localhost:8080/",
          "height": 379
        },
        "id": "rGZDZV_UnbdW",
        "outputId": "2d26e66e-6348-44f1-be13-40c634599da1"
      },
      "outputs": [
        {
          "output_type": "execute_result",
          "data": {
            "text/plain": [
              "   score                                               text\n",
              "0      5  exceptional stay at time! from the moment we a...\n",
              "1      5  a truly luxurious experience! the dining optio...\n",
              "2      4  the ambiance here is always inviting and comfo...\n",
              "3      5  i was on a 2 year anniversary trip to dubai wi...\n",
              "4      5  i specially like to mention concierge edgar, v..."
            ],
            "text/html": [
              "\n",
              "  <div id=\"df-245a6802-fd24-43dd-8f5a-5caae9602f5c\" class=\"colab-df-container\">\n",
              "    <div>\n",
              "<style scoped>\n",
              "    .dataframe tbody tr th:only-of-type {\n",
              "        vertical-align: middle;\n",
              "    }\n",
              "\n",
              "    .dataframe tbody tr th {\n",
              "        vertical-align: top;\n",
              "    }\n",
              "\n",
              "    .dataframe thead th {\n",
              "        text-align: right;\n",
              "    }\n",
              "</style>\n",
              "<table border=\"1\" class=\"dataframe\">\n",
              "  <thead>\n",
              "    <tr style=\"text-align: right;\">\n",
              "      <th></th>\n",
              "      <th>score</th>\n",
              "      <th>text</th>\n",
              "    </tr>\n",
              "  </thead>\n",
              "  <tbody>\n",
              "    <tr>\n",
              "      <th>0</th>\n",
              "      <td>5</td>\n",
              "      <td>exceptional stay at time! from the moment we a...</td>\n",
              "    </tr>\n",
              "    <tr>\n",
              "      <th>1</th>\n",
              "      <td>5</td>\n",
              "      <td>a truly luxurious experience! the dining optio...</td>\n",
              "    </tr>\n",
              "    <tr>\n",
              "      <th>2</th>\n",
              "      <td>4</td>\n",
              "      <td>the ambiance here is always inviting and comfo...</td>\n",
              "    </tr>\n",
              "    <tr>\n",
              "      <th>3</th>\n",
              "      <td>5</td>\n",
              "      <td>i was on a 2 year anniversary trip to dubai wi...</td>\n",
              "    </tr>\n",
              "    <tr>\n",
              "      <th>4</th>\n",
              "      <td>5</td>\n",
              "      <td>i specially like to mention concierge edgar, v...</td>\n",
              "    </tr>\n",
              "  </tbody>\n",
              "</table>\n",
              "</div>\n",
              "    <div class=\"colab-df-buttons\">\n",
              "\n",
              "  <div class=\"colab-df-container\">\n",
              "    <button class=\"colab-df-convert\" onclick=\"convertToInteractive('df-245a6802-fd24-43dd-8f5a-5caae9602f5c')\"\n",
              "            title=\"Convert this dataframe to an interactive table.\"\n",
              "            style=\"display:none;\">\n",
              "\n",
              "  <svg xmlns=\"http://www.w3.org/2000/svg\" height=\"24px\" viewBox=\"0 -960 960 960\">\n",
              "    <path d=\"M120-120v-720h720v720H120Zm60-500h600v-160H180v160Zm220 220h160v-160H400v160Zm0 220h160v-160H400v160ZM180-400h160v-160H180v160Zm440 0h160v-160H620v160ZM180-180h160v-160H180v160Zm440 0h160v-160H620v160Z\"/>\n",
              "  </svg>\n",
              "    </button>\n",
              "\n",
              "  <style>\n",
              "    .colab-df-container {\n",
              "      display:flex;\n",
              "      gap: 12px;\n",
              "    }\n",
              "\n",
              "    .colab-df-convert {\n",
              "      background-color: #E8F0FE;\n",
              "      border: none;\n",
              "      border-radius: 50%;\n",
              "      cursor: pointer;\n",
              "      display: none;\n",
              "      fill: #1967D2;\n",
              "      height: 32px;\n",
              "      padding: 0 0 0 0;\n",
              "      width: 32px;\n",
              "    }\n",
              "\n",
              "    .colab-df-convert:hover {\n",
              "      background-color: #E2EBFA;\n",
              "      box-shadow: 0px 1px 2px rgba(60, 64, 67, 0.3), 0px 1px 3px 1px rgba(60, 64, 67, 0.15);\n",
              "      fill: #174EA6;\n",
              "    }\n",
              "\n",
              "    .colab-df-buttons div {\n",
              "      margin-bottom: 4px;\n",
              "    }\n",
              "\n",
              "    [theme=dark] .colab-df-convert {\n",
              "      background-color: #3B4455;\n",
              "      fill: #D2E3FC;\n",
              "    }\n",
              "\n",
              "    [theme=dark] .colab-df-convert:hover {\n",
              "      background-color: #434B5C;\n",
              "      box-shadow: 0px 1px 3px 1px rgba(0, 0, 0, 0.15);\n",
              "      filter: drop-shadow(0px 1px 2px rgba(0, 0, 0, 0.3));\n",
              "      fill: #FFFFFF;\n",
              "    }\n",
              "  </style>\n",
              "\n",
              "    <script>\n",
              "      const buttonEl =\n",
              "        document.querySelector('#df-245a6802-fd24-43dd-8f5a-5caae9602f5c button.colab-df-convert');\n",
              "      buttonEl.style.display =\n",
              "        google.colab.kernel.accessAllowed ? 'block' : 'none';\n",
              "\n",
              "      async function convertToInteractive(key) {\n",
              "        const element = document.querySelector('#df-245a6802-fd24-43dd-8f5a-5caae9602f5c');\n",
              "        const dataTable =\n",
              "          await google.colab.kernel.invokeFunction('convertToInteractive',\n",
              "                                                    [key], {});\n",
              "        if (!dataTable) return;\n",
              "\n",
              "        const docLinkHtml = 'Like what you see? Visit the ' +\n",
              "          '<a target=\"_blank\" href=https://colab.research.google.com/notebooks/data_table.ipynb>data table notebook</a>'\n",
              "          + ' to learn more about interactive tables.';\n",
              "        element.innerHTML = '';\n",
              "        dataTable['output_type'] = 'display_data';\n",
              "        await google.colab.output.renderOutput(dataTable, element);\n",
              "        const docLink = document.createElement('div');\n",
              "        docLink.innerHTML = docLinkHtml;\n",
              "        element.appendChild(docLink);\n",
              "      }\n",
              "    </script>\n",
              "  </div>\n",
              "\n",
              "\n",
              "<div id=\"df-80468f6f-5fef-4a0e-a620-a44ae92b77cd\">\n",
              "  <button class=\"colab-df-quickchart\" onclick=\"quickchart('df-80468f6f-5fef-4a0e-a620-a44ae92b77cd')\"\n",
              "            title=\"Suggest charts\"\n",
              "            style=\"display:none;\">\n",
              "\n",
              "<svg xmlns=\"http://www.w3.org/2000/svg\" height=\"24px\"viewBox=\"0 0 24 24\"\n",
              "     width=\"24px\">\n",
              "    <g>\n",
              "        <path d=\"M19 3H5c-1.1 0-2 .9-2 2v14c0 1.1.9 2 2 2h14c1.1 0 2-.9 2-2V5c0-1.1-.9-2-2-2zM9 17H7v-7h2v7zm4 0h-2V7h2v10zm4 0h-2v-4h2v4z\"/>\n",
              "    </g>\n",
              "</svg>\n",
              "  </button>\n",
              "\n",
              "<style>\n",
              "  .colab-df-quickchart {\n",
              "      --bg-color: #E8F0FE;\n",
              "      --fill-color: #1967D2;\n",
              "      --hover-bg-color: #E2EBFA;\n",
              "      --hover-fill-color: #174EA6;\n",
              "      --disabled-fill-color: #AAA;\n",
              "      --disabled-bg-color: #DDD;\n",
              "  }\n",
              "\n",
              "  [theme=dark] .colab-df-quickchart {\n",
              "      --bg-color: #3B4455;\n",
              "      --fill-color: #D2E3FC;\n",
              "      --hover-bg-color: #434B5C;\n",
              "      --hover-fill-color: #FFFFFF;\n",
              "      --disabled-bg-color: #3B4455;\n",
              "      --disabled-fill-color: #666;\n",
              "  }\n",
              "\n",
              "  .colab-df-quickchart {\n",
              "    background-color: var(--bg-color);\n",
              "    border: none;\n",
              "    border-radius: 50%;\n",
              "    cursor: pointer;\n",
              "    display: none;\n",
              "    fill: var(--fill-color);\n",
              "    height: 32px;\n",
              "    padding: 0;\n",
              "    width: 32px;\n",
              "  }\n",
              "\n",
              "  .colab-df-quickchart:hover {\n",
              "    background-color: var(--hover-bg-color);\n",
              "    box-shadow: 0 1px 2px rgba(60, 64, 67, 0.3), 0 1px 3px 1px rgba(60, 64, 67, 0.15);\n",
              "    fill: var(--button-hover-fill-color);\n",
              "  }\n",
              "\n",
              "  .colab-df-quickchart-complete:disabled,\n",
              "  .colab-df-quickchart-complete:disabled:hover {\n",
              "    background-color: var(--disabled-bg-color);\n",
              "    fill: var(--disabled-fill-color);\n",
              "    box-shadow: none;\n",
              "  }\n",
              "\n",
              "  .colab-df-spinner {\n",
              "    border: 2px solid var(--fill-color);\n",
              "    border-color: transparent;\n",
              "    border-bottom-color: var(--fill-color);\n",
              "    animation:\n",
              "      spin 1s steps(1) infinite;\n",
              "  }\n",
              "\n",
              "  @keyframes spin {\n",
              "    0% {\n",
              "      border-color: transparent;\n",
              "      border-bottom-color: var(--fill-color);\n",
              "      border-left-color: var(--fill-color);\n",
              "    }\n",
              "    20% {\n",
              "      border-color: transparent;\n",
              "      border-left-color: var(--fill-color);\n",
              "      border-top-color: var(--fill-color);\n",
              "    }\n",
              "    30% {\n",
              "      border-color: transparent;\n",
              "      border-left-color: var(--fill-color);\n",
              "      border-top-color: var(--fill-color);\n",
              "      border-right-color: var(--fill-color);\n",
              "    }\n",
              "    40% {\n",
              "      border-color: transparent;\n",
              "      border-right-color: var(--fill-color);\n",
              "      border-top-color: var(--fill-color);\n",
              "    }\n",
              "    60% {\n",
              "      border-color: transparent;\n",
              "      border-right-color: var(--fill-color);\n",
              "    }\n",
              "    80% {\n",
              "      border-color: transparent;\n",
              "      border-right-color: var(--fill-color);\n",
              "      border-bottom-color: var(--fill-color);\n",
              "    }\n",
              "    90% {\n",
              "      border-color: transparent;\n",
              "      border-bottom-color: var(--fill-color);\n",
              "    }\n",
              "  }\n",
              "</style>\n",
              "\n",
              "  <script>\n",
              "    async function quickchart(key) {\n",
              "      const quickchartButtonEl =\n",
              "        document.querySelector('#' + key + ' button');\n",
              "      quickchartButtonEl.disabled = true;  // To prevent multiple clicks.\n",
              "      quickchartButtonEl.classList.add('colab-df-spinner');\n",
              "      try {\n",
              "        const charts = await google.colab.kernel.invokeFunction(\n",
              "            'suggestCharts', [key], {});\n",
              "      } catch (error) {\n",
              "        console.error('Error during call to suggestCharts:', error);\n",
              "      }\n",
              "      quickchartButtonEl.classList.remove('colab-df-spinner');\n",
              "      quickchartButtonEl.classList.add('colab-df-quickchart-complete');\n",
              "    }\n",
              "    (() => {\n",
              "      let quickchartButtonEl =\n",
              "        document.querySelector('#df-80468f6f-5fef-4a0e-a620-a44ae92b77cd button');\n",
              "      quickchartButtonEl.style.display =\n",
              "        google.colab.kernel.accessAllowed ? 'block' : 'none';\n",
              "    })();\n",
              "  </script>\n",
              "</div>\n",
              "\n",
              "    </div>\n",
              "  </div>\n"
            ],
            "application/vnd.google.colaboratory.intrinsic+json": {
              "type": "dataframe",
              "variable_name": "reviews_df",
              "summary": "{\n  \"name\": \"reviews_df\",\n  \"rows\": 1145,\n  \"fields\": [\n    {\n      \"column\": \"score\",\n      \"properties\": {\n        \"dtype\": \"number\",\n        \"std\": 1,\n        \"min\": 0,\n        \"max\": 5,\n        \"num_unique_values\": 6,\n        \"samples\": [\n          5,\n          4,\n          2\n        ],\n        \"semantic_type\": \"\",\n        \"description\": \"\"\n      }\n    },\n    {\n      \"column\": \"text\",\n      \"properties\": {\n        \"dtype\": \"string\",\n        \"num_unique_values\": 1117,\n        \"samples\": [\n          \"clean and tidy ...excellent service\",\n          \"very nice hotel to stay and location is also good staff is also very nice and polite especially mr sunil yadav ji fron house keeping department very help ful polite and well manaered\\u2026always keeps smiling \\u2026.great customer service.\",\n          \"yunus is a great guy ,helping nature , in all the way he can assist you for any information for tour and any other que. he will try to ans and help you more as he can\"\n        ],\n        \"semantic_type\": \"\",\n        \"description\": \"\"\n      }\n    }\n  ]\n}"
            }
          },
          "metadata": {},
          "execution_count": 1
        }
      ],
      "source": [
        "import pandas as pd\n",
        "from textblob import TextBlob\n",
        "import matplotlib.pyplot as plt\n",
        "from collections import Counter\n",
        "import re\n",
        "\n",
        "file_path = 'TIME_Hotel_Reviews.csv'\n",
        "reviews_df = pd.read_csv(file_path)\n",
        "\n",
        "reviews_df = reviews_df[reviews_df['lang'] == 'en']\n",
        "\n",
        "reviews_df = reviews_df[['score', 'text']].dropna()\n",
        "\n",
        "reviews_df['text'] = reviews_df['text'].str.lower().str.strip()\n",
        "\n",
        "reviews_df.head()"
      ]
    },
    {
      "cell_type": "markdown",
      "source": [
        "### **Sentiment Analysis and Categorizing**"
      ],
      "metadata": {
        "id": "NS1rcOlmvlxp"
      }
    },
    {
      "cell_type": "code",
      "source": [
        "def classify_sentiment(text):\n",
        "    analysis = TextBlob(text)\n",
        "    polarity = analysis.sentiment.polarity\n",
        "    if polarity > 0:\n",
        "        return 'positive'\n",
        "    elif polarity < 0:\n",
        "        return 'negative'\n",
        "    else:\n",
        "        return 'neutral'\n",
        "\n",
        "reviews_df['sentiment'] = reviews_df['text'].apply(classify_sentiment)\n",
        "\n",
        "sentiment_counts = reviews_df['sentiment'].value_counts()\n",
        "\n",
        "sentiment_counts"
      ],
      "metadata": {
        "colab": {
          "base_uri": "https://localhost:8080/"
        },
        "id": "ZOoTGtdqnr8X",
        "outputId": "4b85e0e1-125e-4ab0-cc06-04ec0e7c61f7"
      },
      "execution_count": 2,
      "outputs": [
        {
          "output_type": "execute_result",
          "data": {
            "text/plain": [
              "positive    1013\n",
              "neutral       92\n",
              "negative      40\n",
              "Name: sentiment, dtype: int64"
            ]
          },
          "metadata": {},
          "execution_count": 2
        }
      ]
    },
    {
      "cell_type": "markdown",
      "source": [
        "### **Pie Graph Plotting**"
      ],
      "metadata": {
        "id": "0SPnwlFCvwXu"
      }
    },
    {
      "cell_type": "code",
      "source": [
        "sentiment_counts = reviews_df['sentiment'].value_counts()\n",
        "\n",
        "plt.figure(figsize=(8, 6))\n",
        "plt.pie(sentiment_counts, labels=sentiment_counts.index, autopct='%1.1f%%', startangle=140)\n",
        "plt.title('Sentiment Distribution')\n",
        "plt.show()"
      ],
      "metadata": {
        "colab": {
          "base_uri": "https://localhost:8080/",
          "height": 521
        },
        "id": "ll4A26FDnuPB",
        "outputId": "9c861b8c-d64d-4e5d-80ca-448adc831faf"
      },
      "execution_count": 3,
      "outputs": [
        {
          "output_type": "display_data",
          "data": {
            "text/plain": [
              "<Figure size 800x600 with 1 Axes>"
            ],
            "image/png": "[encoded data removed]"
          },
          "metadata": {}
        }
      ]
    },
    {
      "cell_type": "markdown",
      "source": [
        "### **Categorizing Negative Reviews**"
      ],
      "metadata": {
        "id": "C-sZ9jckv7bL"
      }
    },
    {
      "cell_type": "code",
      "source": [
        "categories = {\n",
        "    \"cleanliness\": [\"clean\", \"dirty\", \"sanitary\", \"messy\", \"filthy\", \"unhygienic\"],\n",
        "    \"service\": [\"service\", \"staff\", \"helpful\", \"unfriendly\", \"rude\", \"reception\", \"wait\", \"delay\"],\n",
        "    \"amenities\": [\"wifi\", \"amenities\", \"pool\", \"gym\", \"facilities\", \"air conditioning\", \"ac\", \"tv\", \"television\"],\n",
        "    \"food\": [\"food\", \"breakfast\", \"dinner\", \"meal\", \"cuisine\", \"restaurant\", \"eat\", \"drink\", \"bar\"],\n",
        "    \"comfort\": [\"bed\", \"comfortable\", \"spacious\", \"noise\", \"quiet\", \"sleep\", \"noisy\", \"uncomfortable\", \"size\"]\n",
        "}\n",
        "\n",
        "def analyze_negative_reviews(text):\n",
        "    category_matches = Counter()\n",
        "    for category, keywords in categories.items():\n",
        "        if any(keyword in text for keyword in keywords):\n",
        "            category_matches[category] += 1\n",
        "    return category_matches\n",
        "\n",
        "negative_reviews = reviews_df[reviews_df['sentiment'] == 'negative']['text']\n",
        "category_counts = Counter()\n",
        "for review in negative_reviews:\n",
        "    category_counts.update(analyze_negative_reviews(review))\n",
        "\n",
        "category_counts"
      ],
      "metadata": {
        "colab": {
          "base_uri": "https://localhost:8080/"
        },
        "id": "byMFv6-KnwBv",
        "outputId": "ed48b51b-b9fc-467a-aa76-5977344e0e60"
      },
      "execution_count": 4,
      "outputs": [
        {
          "output_type": "execute_result",
          "data": {
            "text/plain": [
              "Counter({'service': 18,\n",
              "         'comfort': 6,\n",
              "         'amenities': 14,\n",
              "         'food': 5,\n",
              "         'cleanliness': 9})"
            ]
          },
          "metadata": {},
          "execution_count": 4
        }
      ]
    },
    {
      "cell_type": "markdown",
      "source": [
        "### **Plotting Bar Graph**"
      ],
      "metadata": {
        "id": "NgAf6b-dwEHM"
      }
    },
    {
      "cell_type": "code",
      "source": [
        "plt.figure(figsize=(10, 6))\n",
        "\n",
        "\n",
        "categories_list = list(category_counts.keys())\n",
        "counts_list = list(category_counts.values())\n",
        "plt.bar(categories_list, counts_list, color=['#1f77b4', '#ff7f0e', '#2ca02c', '#d62728', '#9467bd'])\n",
        "plt.title('Improvement Areas Based on Negative Reviews')\n",
        "plt.xticks(rotation=45)\n",
        "plt.ylabel('Counts')\n",
        "plt.show()"
      ],
      "metadata": {
        "colab": {
          "base_uri": "https://localhost:8080/",
          "height": 595
        },
        "id": "gTHeZw--oDQC",
        "outputId": "59f32e37-62ec-4016-b96d-fb470daad600"
      },
      "execution_count": 5,
      "outputs": [
        {
          "output_type": "display_data",
          "data": {
            "text/plain": [
              "<Figure size 1000x600 with 1 Axes>"
            ],
            "image/png": "[encoded data removed]"
          },
          "metadata": {}
        }
      ]
    },
    {
      "cell_type": "markdown",
      "source": [
        "### **Feedback**"
      ],
      "metadata": {
        "id": "Bw1d2T18wLPK"
      }
    },
    {
      "cell_type": "code",
      "source": [
        "def generate_improvement_feedback(category_counts):\n",
        "    feedback_messages = []\n",
        "    for category, count in category_counts.items():\n",
        "        if category == \"cleanliness\":\n",
        "            feedback_messages.append(f\"Cleanliness was mentioned negatively in {count} reviews. Improving cleaning protocols and ensuring rooms and public areas are spotless can significantly enhance guest experience.\")\n",
        "        elif category == \"service\":\n",
        "            feedback_messages.append(f\"Service issues were highlighted in {count} reviews. Providing additional training to staff and ensuring prompt, friendly service can greatly improve guest satisfaction.\")\n",
        "        elif category == \"amenities\":\n",
        "            feedback_messages.append(f\"Amenities were criticized in {count} reviews. Reviewing and upgrading amenities like the pool, gym, and WiFi can make stays more enjoyable for guests.\")\n",
        "        elif category == \"food\":\n",
        "            feedback_messages.append(f\"Food quality or variety was a concern in {count} reviews. Enhancing the dining experience with better quality ingredients or more varied menu options can attract more guests.\")\n",
        "        elif category == \"comfort\":\n",
        "            feedback_messages.append(f\"Comfort was mentioned negatively in {count} review. Ensuring that rooms offer a peaceful, comfortable environment can improve sleep quality and overall satisfaction.\")\n",
        "\n",
        "    return \"\\n\\n\".join(feedback_messages)\n",
        "\n",
        "tailored_feedback = generate_improvement_feedback(category_counts)\n",
        "print(tailored_feedback)"
      ],
      "metadata": {
        "colab": {
          "base_uri": "https://localhost:8080/"
        },
        "id": "kgbZfekxoHbj",
        "outputId": "4442cd5c-875a-43ea-bc66-cd8178e3f163"
      },
      "execution_count": 6,
      "outputs": [
        {
          "output_type": "stream",
          "name": "stdout",
          "text": [
            "Service issues were highlighted in 18 reviews. Providing additional training to staff and ensuring prompt, friendly service can greatly improve guest satisfaction.\n",
            "\n",
            "Comfort was mentioned negatively in 6 review. Ensuring that rooms offer a peaceful, comfortable environment can improve sleep quality and overall satisfaction.\n",
            "\n",
            "Amenities were criticized in 14 reviews. Reviewing and upgrading amenities like the pool, gym, and WiFi can make stays more enjoyable for guests.\n",
            "\n",
            "Food quality or variety was a concern in 5 reviews. Enhancing the dining experience with better quality ingredients or more varied menu options can attract more guests.\n",
            "\n",
            "Cleanliness was mentioned negatively in 9 reviews. Improving cleaning protocols and ensuring rooms and public areas are spotless can significantly enhance guest experience.\n"
          ]
        }
      ]
    }
  ]
}